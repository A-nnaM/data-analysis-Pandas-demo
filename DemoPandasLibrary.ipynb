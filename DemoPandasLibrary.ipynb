{
 "cells": [
  {
   "cell_type": "code",
   "execution_count": null,
   "id": "a92aee4d",
   "metadata": {
    "ExecuteTime": {
     "end_time": "2025-01-15T11:07:05.954213Z",
     "start_time": "2025-01-15T11:07:03.669251Z"
    }
   },
   "outputs": [],
   "source": [
    "import pandas as pd"
   ]
  },
  {
   "cell_type": "code",
   "execution_count": null,
   "id": "5f80988c",
   "metadata": {
    "ExecuteTime": {
     "end_time": "2025-01-15T11:07:06.574309Z",
     "start_time": "2025-01-15T11:07:05.969854Z"
    },
    "scrolled": true
   },
   "outputs": [],
   "source": [
    "# read the csv file\n",
    "streams = pd.read_csv('streams.csv', index_col=0)\n",
    "streams.head()"
   ]
  },
  {
   "cell_type": "code",
   "execution_count": null,
   "id": "4785f154",
   "metadata": {
    "ExecuteTime": {
     "end_time": "2025-01-15T11:07:06.621176Z",
     "start_time": "2025-01-15T11:07:06.589796Z"
    }
   },
   "outputs": [],
   "source": [
    "# pandas shape() function allows you to know number of rows and columns in the dataset\n",
    "streams.shape"
   ]
  },
  {
   "cell_type": "code",
   "execution_count": null,
   "id": "33fb2f21",
   "metadata": {
    "ExecuteTime": {
     "end_time": "2025-01-15T11:07:06.793063Z",
     "start_time": "2025-01-15T11:07:06.636673Z"
    }
   },
   "outputs": [],
   "source": [
    "# using the min, max functions you may display the date range of dataset\n",
    "min_date = streams[\"date\"].min()\n",
    "max_date = streams[\"date\"].max()\n",
    "\n",
    "print(f\"Information is available for dates from {min_date} to {max_date}\")\n"
   ]
  },
  {
   "cell_type": "code",
   "execution_count": null,
   "id": "6edc2854",
   "metadata": {
    "ExecuteTime": {
     "end_time": "2025-01-15T11:07:06.964984Z",
     "start_time": "2025-01-15T11:07:06.808551Z"
    }
   },
   "outputs": [],
   "source": [
    "# you may use nunique() function to display the number of unique values in the column\n",
    "\n",
    "num_countries = streams['country'].nunique(dropna=True)\n",
    "\n",
    "num_regions = streams['region'].nunique(dropna=True)\n",
    "\n",
    "num_genders = streams['gender'].nunique(dropna=True)\n",
    "\n",
    "print(f\"There are:\\n\"\n",
    "      f\" {num_countries} unique countries \\n\"\n",
    "      f\" {num_regions} unique regions and\\n\"\n",
    "      f\" {num_genders} genders in dataset\")"
   ]
  },
  {
   "cell_type": "code",
   "execution_count": null,
   "id": "28c1b033",
   "metadata": {
    "ExecuteTime": {
     "end_time": "2025-01-15T11:07:07.089947Z",
     "start_time": "2025-01-15T11:07:06.980425Z"
    }
   },
   "outputs": [],
   "source": [
    "# unlike the nunique() function which display the count of unique values in the column, unique() function displays the values\n",
    "streams[\"gender\"].dropna().unique()"
   ]
  },
  {
   "cell_type": "code",
   "execution_count": null,
   "id": "43dbf8fc",
   "metadata": {
    "ExecuteTime": {
     "end_time": "2025-01-15T11:07:07.244719Z",
     "start_time": "2025-01-15T11:07:07.089947Z"
    }
   },
   "outputs": [],
   "source": [
    "# isnull() function finds the rown where the given value is missing\n",
    "\n",
    "missing_countries = streams['country'].isnull().sum()\n",
    "\n",
    "missing_region = streams['region'].isnull().sum()\n",
    "\n",
    "missing_gender = streams['gender'].isnull().sum()\n",
    "\n",
    "missing_streams = streams['n_of_streams'].isnull().sum()\n",
    "\n",
    "print(f\"The dataset has:\\n\"\n",
    "    f\" {missing_countries} missing values in the 'country' column.\\n\"\n",
    "    f\" {missing_region} missing values in the 'region' column.\\n\"\n",
    "    f\" {missing_streams} missing values in the 'n_of_streams' column.\"\n",
    ")"
   ]
  },
  {
   "cell_type": "code",
   "execution_count": null,
   "id": "cfda6d6a",
   "metadata": {
    "ExecuteTime": {
     "end_time": "2025-01-15T11:07:07.900972Z",
     "start_time": "2025-01-15T11:07:07.244719Z"
    }
   },
   "outputs": [],
   "source": [
    "# count of streams per country\n",
    "s = pd.DataFrame(streams.groupby('country')[\"n_of_streams\"].sum())\n",
    "\n",
    "# count of egions per country\n",
    "s['Total_regions'] = streams.groupby('country')['region'].nunique()\n",
    "\n",
    "# average number of streams per county\n",
    "s['avg_streams'] = streams.groupby('country')[\"n_of_streams\"].mean()\n",
    "\n",
    "# sandard deviation of streams\n",
    "s['st.dev'] = round(s['n_of_streams'].std(),2)\n",
    "\n",
    "# percentage of streams per country\n",
    "s['percent'] = (s['n_of_streams'] / s['n_of_streams'].sum()) * 100\n",
    "\n",
    "# display first few rows of dataframe\n",
    "s.head()\n"
   ]
  },
  {
   "cell_type": "code",
   "execution_count": null,
   "id": "9501a07c",
   "metadata": {
    "ExecuteTime": {
     "end_time": "2025-01-15T11:07:08.498006Z",
     "start_time": "2025-01-15T11:07:07.900972Z"
    }
   },
   "outputs": [],
   "source": [
    "# count of streams per gender excluding the rows with summed values (gender == all)\n",
    "s1=pd.DataFrame(streams[streams['gender'] != 'all']\n",
    "                .groupby('gender')['n_of_streams']\n",
    "                .sum())\n",
    "\n",
    "# percent of streams per gender\n",
    "s1['percent'] = round(((s1['n_of_streams'] / s1['n_of_streams'].sum()) * 100),2)\n",
    "\n",
    "# count of regions per gender\n",
    "s1['Total_regions'] = streams.groupby('gender')['region'].nunique()\n",
    "\n",
    "# display first few rows of dataframe\n",
    "s1.head()"
   ]
  },
  {
   "cell_type": "markdown",
   "id": "fa98d8a2",
   "metadata": {},
   "source": [
    "######    "
   ]
  },
  {
   "cell_type": "code",
   "execution_count": null,
   "id": "b1f18e73",
   "metadata": {
    "ExecuteTime": {
     "end_time": "2025-01-15T11:08:07.050749Z",
     "start_time": "2025-01-15T11:07:08.513224Z"
    }
   },
   "outputs": [],
   "source": [
    "# filtering data to exclude duplications (gender == all)\n",
    "streams_filtered = streams[streams['gender'] != 'all']\n",
    "\n",
    "# define function to compute the outliers\n",
    "def compute_outliers(group):\n",
    "    # Calculate Q1, Q3, and IQR\n",
    "    Q1 = group['n_of_streams'].quantile(0.25)\n",
    "    Q3 = group['n_of_streams'].quantile(0.75)\n",
    "    IQR = Q3 - Q1\n",
    "\n",
    "    # Determine outlier bounds\n",
    "    lower_bound = Q1 - 1.5 * IQR\n",
    "    upper_bound = Q3 + 1.5 * IQR\n",
    "    \n",
    "    # Assign a boolean variable indicating whether the row is an outlier\n",
    "    group[\"outlier\"] = (group['n_of_streams'] < lower_bound) | (group['n_of_streams'] > upper_bound)\n",
    "    \n",
    "    return group\n",
    "  \n",
    "# Group by 'country', 'region', and 'gender' and apply a function\n",
    "streams_outliers = streams_filtered.groupby(['country', 'region', 'gender']).apply(compute_outliers)\n",
    "\n",
    "streams_outliers.reset_index(drop=True, inplace=True)\n",
    "\n",
    "# Display the first few rows to verify\n",
    "print(streams_outliers.head())\n"
   ]
  },
  {
   "cell_type": "code",
   "execution_count": null,
   "id": "1cdd86d8",
   "metadata": {
    "ExecuteTime": {
     "end_time": "2025-01-15T11:16:50.590499Z",
     "start_time": "2025-01-15T11:16:26.340432Z"
    },
    "scrolled": true
   },
   "outputs": [],
   "source": [
    "# `.copy()` method ensures a clean copy of a dataset\n",
    "spikes = streams_filtered.copy()  \n",
    "\n",
    "# computing moving averages\n",
    "spikes.loc[:, 'MA_3'] = (\n",
    "    spikes.groupby(['country', 'region', 'gender'])['n_of_streams']\n",
    "    .transform(lambda x: x.shift(1).rolling(3).mean())\n",
    ")\n",
    "\n",
    "spikes.loc[:, 'MA_10'] = (\n",
    "    spikes.groupby(['country', 'region', 'gender'])['n_of_streams']\n",
    "    .transform(lambda x: x.shift(1).rolling(10).mean())\n",
    ")\n",
    "\n",
    "# adding a column with boolean value that shows the spikes\n",
    "spikes.loc[:, 'spike'] = spikes['MA_3'] > (spikes['MA_10'] * 1.1)\n",
    "\n",
    "print(spikes)"
   ]
  },
  {
   "cell_type": "code",
   "execution_count": null,
   "id": "49c1e4e0",
   "metadata": {
    "ExecuteTime": {
     "end_time": "2025-01-15T11:18:26.931156Z",
     "start_time": "2025-01-15T11:18:24.278313Z"
    }
   },
   "outputs": [],
   "source": [
    "import matplotlib.pyplot as plt\n",
    "\n",
    "# ensures 'date' is in datetime format for proper sorting and plotting\n",
    "spikes['date'] = pd.to_datetime(spikes['date'])\n",
    "\n",
    "# filter for a specific group (replace with desired values in  dataset)\n",
    "group_filter = (\n",
    "    (spikes['country'] == 'US') &\n",
    "    (spikes['region'] == '518') &\n",
    "    (spikes['gender'] == 'male')\n",
    "\n",
    ")\n",
    "group_data = spikes[group_filter]\n",
    "\n",
    "# sort by date to ensure the plot lines connect in order\n",
    "group_data = group_data.sort_values('date')\n",
    "\n",
    "# plotting\n",
    "plt.figure(figsize=(12, 6))\n",
    "\n",
    "plt.plot(group_data['date'], group_data['MA_3'], label='3-Day Moving Average (MA_3)', color='blue', linewidth=2)\n",
    "plt.plot(group_data['date'], group_data['MA_10'], label='10-Day Moving Average (MA_10)', color='orange', linewidth=2)\n",
    "\n",
    "# Highlight spikes\n",
    "spike_data = group_data[group_data['spike']]\n",
    "\n",
    "plt.scatter(spike_data['date'], spike_data['MA_3'], color='red', label='Spikes', zorder=5)\n",
    "\n",
    "# Add labels, title, and legend\n",
    "plt.title('Trends of MA_3 and MA_10 with Spikes', fontsize=16)\n",
    "plt.xlabel('Date', fontsize=14)\n",
    "plt.ylabel('Number of Streams', fontsize=14)\n",
    "plt.legend(fontsize=12)\n",
    "plt.grid(True)\n",
    "plt.xticks(rotation=45)\n",
    "plt.tight_layout()\n",
    "\n",
    "# Show the plot\n",
    "plt.show()\n"
   ]
  },
  {
   "cell_type": "markdown",
   "id": "a48d866c",
   "metadata": {},
   "source": [
    "######  "
   ]
  }
 ],
 "metadata": {
  "kernelspec": {
   "display_name": "Python 3 (ipykernel)",
   "language": "python",
   "name": "python3"
  },
  "language_info": {
   "codemirror_mode": {
    "name": "ipython",
    "version": 3
   },
   "file_extension": ".py",
   "mimetype": "text/x-python",
   "name": "python",
   "nbconvert_exporter": "python",
   "pygments_lexer": "ipython3",
   "version": "3.9.12"
  },
  "toc": {
   "base_numbering": 1,
   "nav_menu": {},
   "number_sections": true,
   "sideBar": true,
   "skip_h1_title": false,
   "title_cell": "Table of Contents",
   "title_sidebar": "Contents",
   "toc_cell": false,
   "toc_position": {},
   "toc_section_display": true,
   "toc_window_display": false
  }
 },
 "nbformat": 4,
 "nbformat_minor": 5
}
